{
 "cells": [
  {
   "cell_type": "markdown",
   "metadata": {},
   "source": [
    "Getting Started with TensorFlow\n",
    "--------------------------------------------"
   ]
  },
  {
   "cell_type": "code",
   "execution_count": 5,
   "metadata": {
    "collapsed": false
   },
   "outputs": [
    {
     "name": "stdout",
     "output_type": "stream",
     "text": [
      "('2 + 4 = ', 6)\n"
     ]
    }
   ],
   "source": [
    "import tensorflow as tf\n",
    "\n",
    "#build graph\n",
    "# variable declaration\n",
    "num1 = tf.placeholder(tf.int16)\n",
    "num2 = tf.placeholder(tf.int16)\n",
    "\n",
    "add = tf.add(num1 , num2)\n",
    "\n",
    "init = tf.initialize_all_variables()\n",
    "\n",
    "# run\n",
    "with tf.Session() as tf_sess:\n",
    "    tf_sess.run( init )\n",
    "    print( '2 + 4 = ', tf_sess.run( add, feed_dict = { num1 : 2, num2 : 4 } ) )\n",
    "\n",
    "\n",
    "# release session\n",
    "tf_sess.close()\n",
    "    "
   ]
  }
 ],
 "metadata": {
  "kernelspec": {
   "display_name": "Python 2",
   "language": "python",
   "name": "python2"
  },
  "language_info": {
   "codemirror_mode": {
    "name": "ipython",
    "version": 2
   },
   "file_extension": ".py",
   "mimetype": "text/x-python",
   "name": "python",
   "nbconvert_exporter": "python",
   "pygments_lexer": "ipython2",
   "version": "2.7.9"
  }
 },
 "nbformat": 4,
 "nbformat_minor": 2
}
