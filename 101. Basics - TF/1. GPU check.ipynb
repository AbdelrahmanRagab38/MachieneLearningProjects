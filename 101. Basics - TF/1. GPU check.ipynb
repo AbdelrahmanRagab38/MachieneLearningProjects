{
 "cells": [
  {
   "cell_type": "markdown",
   "metadata": {},
   "source": [
    "## TF Install"
   ]
  },
  {
   "cell_type": "code",
   "execution_count": 3,
   "metadata": {},
   "outputs": [
    {
     "name": "stderr",
     "output_type": "stream",
     "text": [
      "You are using pip version 9.0.1, however version 19.1.1 is available.\n",
      "You should consider upgrading via the 'python -m pip install --upgrade pip' command.\n"
     ]
    },
    {
     "name": "stdout",
     "output_type": "stream",
     "text": [
      "Collecting tensorflow\n",
      "  Downloading https://files.pythonhosted.org/packages/c8/58/531ff043b41dd9df78aad7fca4adc57fb6a43bee4262c9419ccccf16e2cb/tensorflow-1.14.0-cp35-cp35m-win_amd64.whl (68.3MB)\n",
      "Collecting google-pasta>=0.1.6 (from tensorflow)\n",
      "  Downloading https://files.pythonhosted.org/packages/d0/33/376510eb8d6246f3c30545f416b2263eee461e40940c2a4413c711bdf62d/google_pasta-0.1.7-py3-none-any.whl (52kB)\n",
      "Collecting absl-py>=0.7.0 (from tensorflow)\n",
      "  Downloading https://files.pythonhosted.org/packages/da/3f/9b0355080b81b15ba6a9ffcf1f5ea39e307a2778b2f2dc8694724e8abd5b/absl-py-0.7.1.tar.gz (99kB)\n",
      "Collecting wheel>=0.26 (from tensorflow)\n",
      "  Downloading https://files.pythonhosted.org/packages/bb/10/44230dd6bf3563b8f227dbf344c908d412ad2ff48066476672f3a72e174e/wheel-0.33.4-py2.py3-none-any.whl\n",
      "Collecting gast>=0.2.0 (from tensorflow)\n",
      "  Downloading https://files.pythonhosted.org/packages/4e/35/11749bf99b2d4e3cceb4d55ca22590b0d7c2c62b9de38ac4a4a7f4687421/gast-0.2.2.tar.gz\n",
      "Collecting astor>=0.6.0 (from tensorflow)\n",
      "  Downloading https://files.pythonhosted.org/packages/d1/4f/950dfae467b384fc96bc6469de25d832534f6b4441033c39f914efd13418/astor-0.8.0-py2.py3-none-any.whl\n",
      "Collecting protobuf>=3.6.1 (from tensorflow)\n",
      "  Downloading https://files.pythonhosted.org/packages/82/1a/b11398455cf907ec214ef6697004d5ea6a2d10ca6e0d76c6bd3f484ace15/protobuf-3.8.0-cp35-cp35m-win_amd64.whl (1.1MB)\n",
      "Collecting termcolor>=1.1.0 (from tensorflow)\n",
      "  Downloading https://files.pythonhosted.org/packages/8a/48/a76be51647d0eb9f10e2a4511bf3ffb8cc1e6b14e9e4fab46173aa79f981/termcolor-1.1.0.tar.gz\n",
      "Collecting wrapt>=1.11.1 (from tensorflow)\n",
      "  Downloading https://files.pythonhosted.org/packages/23/84/323c2415280bc4fc880ac5050dddfb3c8062c2552b34c2e512eb4aa68f79/wrapt-1.11.2.tar.gz\n",
      "Requirement already up-to-date: six>=1.10.0 in c:\\python\\python35\\lib\\site-packages (from tensorflow)\n",
      "Collecting grpcio>=1.8.6 (from tensorflow)\n",
      "  Downloading https://files.pythonhosted.org/packages/46/04/1c033d1f9e7f9f2145ff4d4946967016cd357aef313df8ce58e4ce1c1fd0/grpcio-1.22.0-cp35-cp35m-win_amd64.whl (1.6MB)\n",
      "Collecting keras-applications>=1.0.6 (from tensorflow)\n",
      "  Downloading https://files.pythonhosted.org/packages/71/e3/19762fdfc62877ae9102edf6342d71b28fbfd9dea3d2f96a882ce099b03f/Keras_Applications-1.0.8-py3-none-any.whl (50kB)\n",
      "Collecting keras-preprocessing>=1.0.5 (from tensorflow)\n",
      "  Downloading https://files.pythonhosted.org/packages/28/6a/8c1f62c37212d9fc441a7e26736df51ce6f0e38455816445471f10da4f0a/Keras_Preprocessing-1.1.0-py2.py3-none-any.whl (41kB)\n",
      "Collecting numpy<2.0,>=1.14.5 (from tensorflow)\n",
      "  Downloading https://files.pythonhosted.org/packages/b4/1b/36bd20a4a1f41729c406014974925598edaeca1ca2510a2843892329b2f1/numpy-1.16.4-cp35-cp35m-win_amd64.whl (11.9MB)\n",
      "Collecting tensorboard<1.15.0,>=1.14.0 (from tensorflow)\n",
      "  Downloading https://files.pythonhosted.org/packages/91/2d/2ed263449a078cd9c8a9ba50ebd50123adf1f8cfbea1492f9084169b89d9/tensorboard-1.14.0-py3-none-any.whl (3.1MB)\n",
      "Collecting tensorflow-estimator<1.15.0rc0,>=1.14.0rc0 (from tensorflow)\n",
      "  Downloading https://files.pythonhosted.org/packages/3c/d5/21860a5b11caf0678fbc8319341b0ae21a07156911132e0e71bffed0510d/tensorflow_estimator-1.14.0-py2.py3-none-any.whl (488kB)\n",
      "Collecting setuptools (from protobuf>=3.6.1->tensorflow)\n",
      "  Downloading https://files.pythonhosted.org/packages/ec/51/f45cea425fd5cb0b0380f5b0f048ebc1da5b417e48d304838c02d6288a1e/setuptools-41.0.1-py2.py3-none-any.whl (575kB)\n",
      "Collecting h5py (from keras-applications>=1.0.6->tensorflow)\n",
      "  Downloading https://files.pythonhosted.org/packages/62/ed/88e6bfb6ed363725480847b63d571283afb35031bc76d04d40d2c1960e78/h5py-2.9.0-cp35-cp35m-win_amd64.whl (2.4MB)\n",
      "Collecting markdown>=2.6.8 (from tensorboard<1.15.0,>=1.14.0->tensorflow)\n",
      "  Downloading https://files.pythonhosted.org/packages/c0/4e/fd492e91abdc2d2fcb70ef453064d980688762079397f779758e055f6575/Markdown-3.1.1-py2.py3-none-any.whl (87kB)\n",
      "Collecting werkzeug>=0.11.15 (from tensorboard<1.15.0,>=1.14.0->tensorflow)\n",
      "  Downloading https://files.pythonhosted.org/packages/9f/57/92a497e38161ce40606c27a86759c6b92dd34fcdb33f64171ec559257c02/Werkzeug-0.15.4-py2.py3-none-any.whl (327kB)\n",
      "Installing collected packages: google-pasta, absl-py, wheel, gast, astor, setuptools, protobuf, termcolor, wrapt, grpcio, numpy, h5py, keras-applications, keras-preprocessing, markdown, werkzeug, tensorboard, tensorflow-estimator, tensorflow\n",
      "  Running setup.py install for absl-py: started\n",
      "    Running setup.py install for absl-py: finished with status 'done'\n",
      "  Running setup.py install for gast: started\n",
      "    Running setup.py install for gast: finished with status 'done'\n",
      "  Found existing installation: setuptools 28.8.0\n",
      "    Uninstalling setuptools-28.8.0:\n",
      "      Successfully uninstalled setuptools-28.8.0\n",
      "  Running setup.py install for termcolor: started\n",
      "    Running setup.py install for termcolor: finished with status 'done'\n",
      "  Running setup.py install for wrapt: started\n",
      "    Running setup.py install for wrapt: finished with status 'done'\n",
      "Successfully installed absl-py-0.7.1 astor-0.8.0 gast-0.2.2 google-pasta-0.1.7 grpcio-1.22.0 h5py-2.9.0 keras-applications-1.0.8 keras-preprocessing-1.1.0 markdown-3.1.1 numpy-1.16.4 protobuf-3.8.0 setuptools-41.0.1 tensorboard-1.14.0 tensorflow-1.14.0 tensorflow-estimator-1.14.0 termcolor-1.1.0 werkzeug-0.15.4 wheel-0.33.4 wrapt-1.11.2\n"
     ]
    },
    {
     "name": "stderr",
     "output_type": "stream",
     "text": [
      "You are using pip version 9.0.1, however version 19.1.1 is available.\n",
      "You should consider upgrading via the 'python -m pip install --upgrade pip' command.\n"
     ]
    },
    {
     "name": "stdout",
     "output_type": "stream",
     "text": [
      "Requirement already satisfied: tensorflow in c:\\python\\python35\\lib\\site-packages\n",
      "Requirement already satisfied: gast>=0.2.0 in c:\\python\\python35\\lib\\site-packages (from tensorflow)\n",
      "Requirement already satisfied: wrapt>=1.11.1 in c:\\python\\python35\\lib\\site-packages (from tensorflow)\n",
      "Requirement already satisfied: numpy<2.0,>=1.14.5 in c:\\python\\python35\\lib\\site-packages (from tensorflow)\n",
      "Requirement already satisfied: absl-py>=0.7.0 in c:\\python\\python35\\lib\\site-packages (from tensorflow)\n",
      "Requirement already satisfied: grpcio>=1.8.6 in c:\\python\\python35\\lib\\site-packages (from tensorflow)\n",
      "Requirement already satisfied: keras-preprocessing>=1.0.5 in c:\\python\\python35\\lib\\site-packages (from tensorflow)\n",
      "Requirement already satisfied: keras-applications>=1.0.6 in c:\\python\\python35\\lib\\site-packages (from tensorflow)\n",
      "Requirement already satisfied: protobuf>=3.6.1 in c:\\python\\python35\\lib\\site-packages (from tensorflow)\n",
      "Requirement already satisfied: wheel>=0.26 in c:\\python\\python35\\lib\\site-packages (from tensorflow)\n",
      "Requirement already satisfied: google-pasta>=0.1.6 in c:\\python\\python35\\lib\\site-packages (from tensorflow)\n",
      "Requirement already satisfied: astor>=0.6.0 in c:\\python\\python35\\lib\\site-packages (from tensorflow)\n",
      "Requirement already satisfied: tensorboard<1.15.0,>=1.14.0 in c:\\python\\python35\\lib\\site-packages (from tensorflow)\n",
      "Requirement already satisfied: tensorflow-estimator<1.15.0rc0,>=1.14.0rc0 in c:\\python\\python35\\lib\\site-packages (from tensorflow)\n",
      "Requirement already satisfied: termcolor>=1.1.0 in c:\\python\\python35\\lib\\site-packages (from tensorflow)\n",
      "Requirement already satisfied: six>=1.10.0 in c:\\python\\python35\\lib\\site-packages (from tensorflow)\n",
      "Requirement already satisfied: h5py in c:\\python\\python35\\lib\\site-packages (from keras-applications>=1.0.6->tensorflow)\n",
      "Requirement already satisfied: setuptools in c:\\python\\python35\\lib\\site-packages (from protobuf>=3.6.1->tensorflow)\n",
      "Requirement already satisfied: werkzeug>=0.11.15 in c:\\python\\python35\\lib\\site-packages (from tensorboard<1.15.0,>=1.14.0->tensorflow)\n",
      "Requirement already satisfied: markdown>=2.6.8 in c:\\python\\python35\\lib\\site-packages (from tensorboard<1.15.0,>=1.14.0->tensorflow)\n"
     ]
    },
    {
     "name": "stderr",
     "output_type": "stream",
     "text": [
      "You are using pip version 9.0.1, however version 19.1.1 is available.\n",
      "You should consider upgrading via the 'python -m pip install --upgrade pip' command.\n"
     ]
    },
    {
     "name": "stdout",
     "output_type": "stream",
     "text": [
      "Collecting tf-nightly\n",
      "  Downloading https://files.pythonhosted.org/packages/22/2f/8e620d86092aff3ac549ca98eae8b4a9f047968ece0172d45f1123553728/tf_nightly-1.15.0.dev20190704-cp35-cp35m-win_amd64.whl (57.3MB)\n",
      "Requirement already satisfied: gast>=0.2.0 in c:\\python\\python35\\lib\\site-packages (from tf-nightly)\n",
      "Requirement already satisfied: keras-preprocessing>=1.0.5 in c:\\python\\python35\\lib\\site-packages (from tf-nightly)\n",
      "Collecting tb-nightly<1.15.0a0,>=1.14.0a0 (from tf-nightly)\n",
      "  Downloading https://files.pythonhosted.org/packages/3a/60/afa129c3621d62c885599076f8e89737d66e5dfffad1a08842b1c11b4540/tb_nightly-1.14.0a20190614-py3-none-any.whl (3.1MB)\n",
      "Requirement already satisfied: wrapt>=1.11.1 in c:\\python\\python35\\lib\\site-packages (from tf-nightly)\n",
      "Requirement already satisfied: termcolor>=1.1.0 in c:\\python\\python35\\lib\\site-packages (from tf-nightly)\n",
      "Requirement already satisfied: google-pasta>=0.1.6 in c:\\python\\python35\\lib\\site-packages (from tf-nightly)\n",
      "Requirement already satisfied: six>=1.10.0 in c:\\python\\python35\\lib\\site-packages (from tf-nightly)\n",
      "Requirement already satisfied: astor>=0.6.0 in c:\\python\\python35\\lib\\site-packages (from tf-nightly)\n",
      "Requirement already satisfied: absl-py>=0.7.0 in c:\\python\\python35\\lib\\site-packages (from tf-nightly)\n",
      "Requirement already satisfied: protobuf>=3.6.1 in c:\\python\\python35\\lib\\site-packages (from tf-nightly)\n",
      "Collecting opt-einsum>=2.3.2 (from tf-nightly)\n",
      "  Downloading https://files.pythonhosted.org/packages/f6/d6/44792ec668bcda7d91913c75237314e688f70415ab2acd7172c845f0b24f/opt_einsum-2.3.2.tar.gz (59kB)\n",
      "Requirement already satisfied: wheel>=0.26 in c:\\python\\python35\\lib\\site-packages (from tf-nightly)\n",
      "Requirement already satisfied: keras-applications>=1.0.8 in c:\\python\\python35\\lib\\site-packages (from tf-nightly)\n",
      "Requirement already satisfied: numpy<2.0,>=1.14.5 in c:\\python\\python35\\lib\\site-packages (from tf-nightly)\n",
      "Collecting tf-estimator-nightly (from tf-nightly)\n",
      "  Downloading https://files.pythonhosted.org/packages/cc/c4/53239b5747e07d4ce0e623ca515609973010e88e244b748164f7a90d32e3/tf_estimator_nightly-1.14.0.dev2019070601-py2.py3-none-any.whl (499kB)\n",
      "Requirement already satisfied: grpcio>=1.8.6 in c:\\python\\python35\\lib\\site-packages (from tf-nightly)\n",
      "Requirement already satisfied: werkzeug>=0.11.15 in c:\\python\\python35\\lib\\site-packages (from tb-nightly<1.15.0a0,>=1.14.0a0->tf-nightly)\n",
      "Requirement already satisfied: setuptools>=41.0.0 in c:\\python\\python35\\lib\\site-packages (from tb-nightly<1.15.0a0,>=1.14.0a0->tf-nightly)\n",
      "Requirement already satisfied: markdown>=2.6.8 in c:\\python\\python35\\lib\\site-packages (from tb-nightly<1.15.0a0,>=1.14.0a0->tf-nightly)\n",
      "Requirement already satisfied: h5py in c:\\python\\python35\\lib\\site-packages (from keras-applications>=1.0.8->tf-nightly)\n",
      "Building wheels for collected packages: opt-einsum\n",
      "  Running setup.py bdist_wheel for opt-einsum: started\n",
      "  Running setup.py bdist_wheel for opt-einsum: finished with status 'done'\n",
      "  Stored in directory: C:\\Users\\work\\AppData\\Local\\pip\\Cache\\wheels\\51\\3e\\a3\\b351fae0cbf15373c2136a54a70f43fea5fe91d8168a5faaa4\n",
      "Successfully built opt-einsum\n",
      "Installing collected packages: tb-nightly, opt-einsum, tf-estimator-nightly, tf-nightly\n",
      "Successfully installed opt-einsum-2.3.2 tb-nightly-1.14.0a20190614 tf-estimator-nightly-1.14.0.dev2019070601 tf-nightly-1.15.0.dev20190704\n"
     ]
    },
    {
     "name": "stderr",
     "output_type": "stream",
     "text": [
      "You are using pip version 9.0.1, however version 19.1.1 is available.\n",
      "You should consider upgrading via the 'python -m pip install --upgrade pip' command.\n"
     ]
    }
   ],
   "source": [
    "# To determine which version you're using:\n",
    "!pip show tensorflow\n",
    "\n",
    "# For the current version: \n",
    "!pip install --upgrade tensorflow\n",
    "\n",
    "# For a specific version:\n",
    "!pip install tensorflow\n",
    "\n",
    "# For the latest nightly build:\n",
    "!pip install tf-nightly"
   ]
  },
  {
   "cell_type": "markdown",
   "metadata": {},
   "source": [
    "## Check GPU"
   ]
  },
  {
   "cell_type": "code",
   "execution_count": 4,
   "metadata": {},
   "outputs": [
    {
     "ename": "SystemError",
     "evalue": "GPU device not found",
     "output_type": "error",
     "traceback": [
      "\u001b[1;31m---------------------------------------------------------------------------\u001b[0m",
      "\u001b[1;31mSystemError\u001b[0m                               Traceback (most recent call last)",
      "\u001b[1;32m<ipython-input-4-d1680108c58e>\u001b[0m in \u001b[0;36m<module>\u001b[1;34m\u001b[0m\n\u001b[0;32m      2\u001b[0m \u001b[0mdevice_name\u001b[0m \u001b[1;33m=\u001b[0m \u001b[0mtf\u001b[0m\u001b[1;33m.\u001b[0m\u001b[0mtest\u001b[0m\u001b[1;33m.\u001b[0m\u001b[0mgpu_device_name\u001b[0m\u001b[1;33m(\u001b[0m\u001b[1;33m)\u001b[0m\u001b[1;33m\u001b[0m\u001b[0m\n\u001b[0;32m      3\u001b[0m \u001b[1;32mif\u001b[0m \u001b[0mdevice_name\u001b[0m \u001b[1;33m!=\u001b[0m \u001b[1;34m'/device:GPU:0'\u001b[0m\u001b[1;33m:\u001b[0m\u001b[1;33m\u001b[0m\u001b[0m\n\u001b[1;32m----> 4\u001b[1;33m   \u001b[1;32mraise\u001b[0m \u001b[0mSystemError\u001b[0m\u001b[1;33m(\u001b[0m\u001b[1;34m'GPU device not found'\u001b[0m\u001b[1;33m)\u001b[0m\u001b[1;33m\u001b[0m\u001b[0m\n\u001b[0m\u001b[0;32m      5\u001b[0m \u001b[0mprint\u001b[0m\u001b[1;33m(\u001b[0m\u001b[1;34m'Found GPU at: {}'\u001b[0m\u001b[1;33m.\u001b[0m\u001b[0mformat\u001b[0m\u001b[1;33m(\u001b[0m\u001b[0mdevice_name\u001b[0m\u001b[1;33m)\u001b[0m\u001b[1;33m)\u001b[0m\u001b[1;33m\u001b[0m\u001b[0m\n",
      "\u001b[1;31mSystemError\u001b[0m: GPU device not found"
     ]
    }
   ],
   "source": [
    "import tensorflow as tf\n",
    "device_name = tf.test.gpu_device_name()\n",
    "if device_name != '/device:GPU:0':\n",
    "  raise SystemError('GPU device not found')\n",
    "print('Found GPU at: {}'.format(device_name))"
   ]
  },
  {
   "cell_type": "code",
   "execution_count": null,
   "metadata": {},
   "outputs": [],
   "source": []
  }
 ],
 "metadata": {
  "kernelspec": {
   "display_name": "Python 3",
   "language": "python",
   "name": "python3"
  },
  "language_info": {
   "codemirror_mode": {
    "name": "ipython",
    "version": 3
   },
   "file_extension": ".py",
   "mimetype": "text/x-python",
   "name": "python",
   "nbconvert_exporter": "python",
   "pygments_lexer": "ipython3",
   "version": "3.5.3"
  }
 },
 "nbformat": 4,
 "nbformat_minor": 2
}
