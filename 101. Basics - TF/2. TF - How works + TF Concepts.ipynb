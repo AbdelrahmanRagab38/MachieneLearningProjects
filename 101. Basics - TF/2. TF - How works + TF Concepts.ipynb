{
 "cells": [
  {
   "cell_type": "markdown",
   "metadata": {
    "colab_type": "text",
    "id": "57knM8jrYZ2t"
   },
   "source": [
    "# Intro to TensorFlow"
   ]
  },
  {
   "cell_type": "markdown",
   "metadata": {
    "colab_type": "text",
    "id": "OhuYRQfjYZ2v"
   },
   "source": [
    "## 0.1 Install TensorFlow\n",
    "\n",
    "TensorFlow is a software library extensively used in machine learning. Here we'll learn how computations are represented and how to define a simple neural network in TensorFlow.\n",
    "\n",
    "Let's install TensorFlow and a couple of dependencies: \n"
   ]
  },
  {
   "cell_type": "code",
   "execution_count": 1,
   "metadata": {
    "colab": {},
    "colab_type": "code",
    "id": "LkaimNJfYZ2w"
   },
   "outputs": [],
   "source": [
    "import tensorflow as tf\n",
    "tf.enable_eager_execution()\n",
    "import numpy as np\n",
    "import matplotlib.pyplot as plt"
   ]
  },
  {
   "cell_type": "markdown",
   "metadata": {
    "colab_type": "text",
    "id": "3oWpEMtmYZ3I"
   },
   "source": [
    "We'll then check to make sure things installed properly:"
   ]
  },
  {
   "cell_type": "code",
   "execution_count": 2,
   "metadata": {
    "colab": {},
    "colab_type": "code",
    "id": "zLLaY8hvdbvQ"
   },
   "outputs": [],
   "source": [
    "is_correct_tf_version = '1.13.' in tf.__version__\n",
    "assert is_correct_tf_version, \"Wrong tensorflow version {} installed\".format(tf.__version__)\n",
    "\n",
    "is_eager_enabled = tf.executing_eagerly()\n",
    "assert is_eager_enabled,      \"Tensorflow eager mode is not enabled\""
   ]
  },
  {
   "cell_type": "markdown",
   "metadata": {
    "colab_type": "text",
    "id": "vDJGsR2NoYtu"
   },
   "source": [
    "TensorFlow is set to release the next major version of TensorFlow, [TensorFlow 2.0](https://www.tensorflow.org/community/roadmap#tensorflow_20_is_coming), very soon. In this set of labs we'll be working in TensorFlow 1.12.0. The 6.S191 team is **Eager** to show you this version, as it features a (relatively) new imperative programming style called Eager execution. Under Eager execution, TensorFlow operations execute immediately as they're called from Python (which wasn't always the case!). This allows for fast debugging and a more intuitive way to get started with TensorFlow.\n",
    "\n"
   ]
  },
  {
   "cell_type": "markdown",
   "metadata": {
    "colab_type": "text",
    "id": "iD3VO-LZYZ2z"
   },
   "source": [
    "## 1.1 The computation graph\n",
    "\n",
    "TensorFlow is called TensorFlow because it handles the flow (node/mathematical operation) of Tensors (data), which you can think of as multidimensional arrays. In TensorFlow, computations can be thought of as graphs. First, we'll explore defining a computational graph with Tensors and mathematical operations before diving in to how we can build deep learning models in TensorFlow. \n",
    "\n",
    "Let's look at a simple example, and define this computation using TensorFlow:\n",
    "\n",
    "![alt text](img/add-graph.png \"Computation Graph\")\n",
    "\n",
    "<!-- Keras is a high-level API to build and train deep learning models. It's used for fast prototyping, advanced research, and production, with three key advantages:\n",
    "\n",
    "User friendly\n",
    "Keras has a simple, consistent interface optimized for common use cases. It provides clear and actionable feedback for user errors.\n",
    "Modular and composable\n",
    "Keras models are made by connecting configurable building blocks together, with few restrictions.\n",
    "Easy to extend\n",
    "Write custom building blocks to express new ideas for research. Create new layers, loss functions, and develop state-of-the-art models. -->\n",
    "<!-- \n",
    "TensorFlow programs are usually structured into a phase that assembles a graph, and a phase that uses a session to execute operations in the graph. In TensorFlow we define the computational graph with Tensors and mathematical operations to create a system for machine learning and deep learning.\n",
    "\n",
    "We can think of a computation graph as a series of math operations that occur in some order.  -->\n"
   ]
  },
  {
   "cell_type": "code",
   "execution_count": 3,
   "metadata": {
    "colab": {},
    "colab_type": "code",
    "id": "X_YJrZsxYZ2z"
   },
   "outputs": [
    {
     "name": "stdout",
     "output_type": "stream",
     "text": [
      "tf.Tensor(76, shape=(), dtype=int32)\n"
     ]
    }
   ],
   "source": [
    "# Create the nodes in the graph, and initialize values\n",
    "a = tf.constant(15, name=\"a\")\n",
    "b = tf.constant(61, name=\"b\")\n",
    "\n",
    "# Add them!\n",
    "c = tf.add(a,b, name=\"c\")\n",
    "print(c)"
   ]
  },
  {
   "cell_type": "markdown",
   "metadata": {
    "colab_type": "text",
    "id": "mjYCF0EdYZ22"
   },
   "source": [
    "Notice how we've created a computation graph consisting of TensorFlow operations, and how  the output is a Tensor with value 76 -- we've just created a computation graph consisting of operations, and it's executed them and given us back the result. That's because of Eager!"
   ]
  },
  {
   "cell_type": "markdown",
   "metadata": {
    "colab_type": "text",
    "id": "Mbfv_QOiYZ23"
   },
   "source": [
    "### Building a computation graph\n",
    "\n",
    "Now let's consider a slightly more complicated computation graph:\n",
    "![alt text](img/computation-graph.png \"Computation Graph\")\n",
    "\n",
    "This graph takes two inputs, `a, b`, and computes an output `e`. Each node in the graph is an operation that takes some input, does some computation, and passes its output to another node.\n",
    "\n",
    "Let's define a simple function in TensorFlow to construct this computation graph:"
   ]
  },
  {
   "cell_type": "raw",
   "metadata": {
    "colab": {},
    "colab_type": "code",
    "id": "PJnfzpWyYZ23",
    "scrolled": true
   },
   "source": [
    "# Construct a simple computation graph\n",
    "def graph(a,b):\n",
    "  '''TODO: Define the operation for c, d, e (use tf.add, tf.subtract, tf.multiply).'''\n",
    "  c = # TODO\n",
    "  d = # TODO\n",
    "  e = # TODO\n",
    "  return e"
   ]
  },
  {
   "cell_type": "code",
   "execution_count": 4,
   "metadata": {},
   "outputs": [],
   "source": [
    "## SOLUTION\n",
    "# Construct a simple computation graph\n",
    "def graph(a,b):\n",
    "  '''TODO: Define the operation for c, d, e (use tf.add, tf.subtract, tf.multiply).'''\n",
    "  c = tf.add(a,b) #1.5+2.5=4.0\n",
    "  d = tf.subtract(b,1) #2.5-1=1.5\n",
    "  e = tf.multiply(c,d) #4.0*1.5=6.0\n",
    "  return e"
   ]
  },
  {
   "cell_type": "markdown",
   "metadata": {
    "colab_type": "text",
    "id": "AwrRfDMS2-oy"
   },
   "source": [
    "Now, we can call this function to execute the computation graph given some inputs `a,b`:"
   ]
  },
  {
   "cell_type": "code",
   "execution_count": 5,
   "metadata": {
    "colab": {},
    "colab_type": "code",
    "id": "pnwsf8w2uF7p"
   },
   "outputs": [
    {
     "name": "stdout",
     "output_type": "stream",
     "text": [
      "tf.Tensor(6.0, shape=(), dtype=float32)\n"
     ]
    }
   ],
   "source": [
    "# Consider example values for a,b\n",
    "a, b = 1.5, 2.5\n",
    "# Execute the computation\n",
    "e_out = graph(a,b)\n",
    "print(e_out)"
   ]
  },
  {
   "cell_type": "markdown",
   "metadata": {
    "colab_type": "text",
    "id": "6HqgUIUhYZ29"
   },
   "source": [
    "Again, notice how our output is a Tensor with value defined by the output of the computation (thanks to Eager!)."
   ]
  },
  {
   "cell_type": "markdown",
   "metadata": {
    "colab_type": "text",
    "id": "1h4o9Bb0YZ29"
   },
   "source": [
    "## 1.2 Neural networks in TensorFlow\n",
    "We can also define neural networks in TensorFlow, and it's often helpful to think about this using the idea of computation graphs. TensorFlow uses a high-level API called [Keras](https://www.tensorflow.org/guide/keras) that provides a powerful, intuitive framework for building and training deep learning models. In the 6.S191 labs we'll be using the Keras API to build and train our models.\n",
    "\n",
    "Let's consider this example of a very simple neural network of just one dense layer:\n",
    "\n",
    "![alt text](img/computation-graph-2.png \"Computation Graph\")\n",
    "\n",
    "This graph takes an input `x` and computes an output `out`. It does so how we learned in lecture today: `out = sigmoid(W*x+b)`.\n",
    "\n",
    "First, let's define this computation graph in TensorFlow via a simple function, as we did before:"
   ]
  },
  {
   "cell_type": "raw",
   "metadata": {
    "colab": {},
    "colab_type": "code",
    "id": "ToJIeFqNcLAR"
   },
   "source": [
    "# n_in: number of inputs\n",
    "# n_out: number of outputs\n",
    "def our_dense_layer(x, n_in, n_out):\n",
    "  # Define and initialize parameters, a weight matrix W and biases b\n",
    "  W = tf.Variable(tf.ones((n_in, n_out)))\n",
    "  b = tf.Variable(tf.zeros((1, n_out)))\n",
    "  \n",
    "  '''TODO: define the operation for z (hint: use tf.matmul)'''\n",
    "  z = # TODO\n",
    "  \n",
    "  '''TODO: define the operation for out (hint: use tf.sigmoid)'''\n",
    "  out = # TODO\n",
    "  return out"
   ]
  },
  {
   "cell_type": "markdown",
   "metadata": {},
   "source": [
    "![alt text](img/WX+b.png \"Computation Graph example\")"
   ]
  },
  {
   "cell_type": "code",
   "execution_count": 6,
   "metadata": {},
   "outputs": [],
   "source": [
    "### SOLUTION\n",
    "def our_dense_layer(x, n_in, n_out):\n",
    "  # Define and initialize parameters, a weight matrix W and biases b\n",
    "  W = tf.Variable(tf.ones((n_in, n_out)))\n",
    "  b = tf.Variable(tf.zeros((1, n_out)))\n",
    "  \n",
    "  '''TODO: define the operation for z (hint: use tf.matmul)'''\n",
    "  z = tf.matmul(x, W)+b\n",
    "  \n",
    "  '''TODO: define the operation for out (hint: use tf.sigmoid)'''\n",
    "  out = tf.sigmoid(z)\n",
    "  return out"
   ]
  },
  {
   "cell_type": "markdown",
   "metadata": {
    "colab_type": "text",
    "id": "OgSBEuEtwb2e"
   },
   "source": [
    "As before, we can define an example input, feed it into `our_dense_layer` function, and immediately execute:"
   ]
  },
  {
   "cell_type": "raw",
   "metadata": {},
   "source": [
    "Let,\n",
    "y = [2] & x = [1 9]    & W = [1]   & b = [1]\n",
    "    [4]       [3 8]          [0]         [1]   \n",
    "    [6]       [5 7]                      [1]\n",
    "where \n",
    "shape_y=(3,1)  & shape_x =(3,2)  & shape_W = (2,1) and shape_b = (3,1)\n",
    "Then y = Identity(xT.W+b) = [[1*1 + 9*0] + [[1]  \n",
    "                             [3*1 + 8*0] +  [1]\n",
    "                             [5*1 + 7*0]] + [1]]\n",
    "                            "
   ]
  },
  {
   "cell_type": "code",
   "execution_count": 26,
   "metadata": {
    "colab": {},
    "colab_type": "code",
    "id": "PSI3I0CFcxnv"
   },
   "outputs": [
    {
     "name": "stdout",
     "output_type": "stream",
     "text": [
      "====================================================================================================\n",
      " A RAW IMPLEMENTED FORWARD PASS : NEURAL NETWORK \n",
      "====================================================================================================\n",
      "LET X_train be  ::  tf.Tensor(\n",
      "[[1. 9.]\n",
      " [3. 8.]\n",
      " [5. 7.]], shape=(3, 2), dtype=float32)\n",
      "Then computed y is ::  tf.Tensor(\n",
      "[[0.9999546]\n",
      " [0.9999833]\n",
      " [0.9999938]], shape=(3, 1), dtype=float32)\n"
     ]
    }
   ],
   "source": [
    "'''TODO: define an example input x_input'''\n",
    "x_input = tf.constant( [[1,9],[3,8], [5,7]], shape=(3,2), dtype=float)\n",
    "print(\"=\"*100+'\\n A RAW IMPLEMENTED FORWARD PASS : NEURAL NETWORK \\n'+ \"=\"*100)\n",
    "print('LET X_train be  :: ',x_input)\n",
    "'''TODO: call `our_dense_layer` to get the output of the network and print the result!'''\n",
    "# n_in=len of x in x_dimension\n",
    "# n_out=len of y in x_dimension\n",
    "y= our_dense_layer(x_input, 2,1) # TODO\n",
    "print('Then computed y is :: ', y)"
   ]
  },
  {
   "cell_type": "markdown",
   "metadata": {
    "colab_type": "text",
    "id": "Jt1FgM7qYZ3D"
   },
   "source": [
    "Now, instead of explicitly defining a simple function, we'll use the Keras API to define our neural network. This will be especially important as we move on to more complicated network architectures. \n",
    "\n",
    "Specifically, for this network we'll use the Keras [`Sequential`](https://www.tensorflow.org/versions/r2.0/api_docs/python/tf/keras/Sequential) model from the `tf.keras` API to define our network. The `tf.keras.Sequential` model lets us conveniently define a linear stack of network layers. We'll use [`tf.keras.layers.Dense` ](https://www.tensorflow.org/versions/r2.0/api_docs/python/tf/keras/layers/Dense) to define our single fully connected network layer. "
   ]
  },
  {
   "cell_type": "code",
   "execution_count": 8,
   "metadata": {},
   "outputs": [],
   "source": [
    "#! pip install keras"
   ]
  },
  {
   "cell_type": "code",
   "execution_count": 14,
   "metadata": {
    "colab": {},
    "colab_type": "code",
    "id": "sg23OczByRDb"
   },
   "outputs": [
    {
     "name": "stdout",
     "output_type": "stream",
     "text": [
      "tf.Tensor(\n",
      "[[0.9999546]\n",
      " [0.9999833]\n",
      " [0.9999938]], shape=(3, 1), dtype=float32)\n"
     ]
    }
   ],
   "source": [
    "n_input_nodes = 2\n",
    "n_output_nodes = 1\n",
    "\n",
    "model = Sequential()\n",
    "dense_layer = Dense(units=n_output_nodes, input_shape=(2,), activation='sigmoid',\\\n",
    "                    kernel_initializer='ones', bias_initializer='zeros')\n",
    "model.add(dense_layer)\n",
    "print(model(x_input))"
   ]
  },
  {
   "cell_type": "code",
   "execution_count": 12,
   "metadata": {
    "colab": {},
    "colab_type": "code",
    "id": "7WXTpmoL6TDz"
   },
   "outputs": [
    {
     "name": "stdout",
     "output_type": "stream",
     "text": [
      "tf.Tensor(\n",
      "[[0.00040775]\n",
      " [0.00669273]\n",
      " [0.1001481 ]], shape=(3, 1), dtype=float32)\n"
     ]
    }
   ],
   "source": [
    "# Import relevant packages\n",
    "from tensorflow.keras import Sequential\n",
    "from tensorflow.keras.layers import Dense\n",
    "\n",
    "# Define the number of inputs and outputs\n",
    "n_input_nodes = 2\n",
    "n_output_nodes = 1\n",
    "\n",
    "# First define the model\n",
    "model = Sequential()\n",
    "\n",
    "\n",
    "'''TODO: Define a dense (fully connected) layer to compute z'''\n",
    "# Remember: dense layers are defined by the parameters W and b!\n",
    "# You can read more about the initialization of W and b in the TF documentation :) \n",
    "#dense_layer = # TODO\n",
    "#n_output_nodes, input_shape=(n_input_nodes,),activation='sigmoid'\n",
    "dense_layer = Dense(units=n_output_nodes, input_shape=(2,), activation='sigmoid')\n",
    "\n",
    "# Add the dense layer to the model\n",
    "model.add(dense_layer)\n",
    "print(model(x_input))"
   ]
  },
  {
   "cell_type": "markdown",
   "metadata": {
    "colab_type": "text",
    "id": "HDGcwYfUyR-U"
   },
   "source": [
    "That's it! We've defined our model. Now, we can test it out using an example input:"
   ]
  },
  {
   "cell_type": "markdown",
   "metadata": {
    "colab_type": "text",
    "id": "dQwDhKn8kbO2"
   },
   "source": [
    "## 1.3 Automatic differentiation\n",
    "\n",
    "[Automatic differentiation](https://en.wikipedia.org/wiki/Automatic_differentiation)\n",
    "is one of the most important parts of TensorFlow and is the backbone of training with \n",
    "[backpropagation](https://en.wikipedia.org/wiki/Backpropagation). During Eager execution, use `tf.GradientTape` to trace operations for computing gradients later. \n",
    "\n",
    "All forward-pass operations get recorded to a \"tape\"; then, to compute the gradient, the tape is played backwards and then discarded. A particular `tf.GradientTape` can only\n",
    "compute one gradient; subsequent calls throw a runtime error.\n",
    "\n",
    "Let's take a look at a simple example! We can use automatic differentiation and stochastic gradient descent (SGD) to find the minimum of $y=(x-1)^2$. While we can clearly solve this problem analytically ($x_{min}=1$), solving this simple example sets us up nicely for future labs where we use gradient descent to optimize entire neural network losses. "
   ]
  },
  {
   "cell_type": "code",
   "execution_count": 27,
   "metadata": {
    "attributes": {
     "classes": [
      "py"
     ],
     "id": ""
    },
    "colab": {
     "base_uri": "https://localhost:8080/",
     "height": 395
    },
    "colab_type": "code",
    "id": "7g1yWiSXqEf-",
    "outputId": "cbcd5f61-570e-47c9-ab07-dc7ab4db2fa5"
   },
   "outputs": [
    {
     "name": "stdout",
     "output_type": "stream",
     "text": [
      "====================================================================================================\n",
      " FINDING OPTIMAL VALUE FOR y=(x-1)^2 \n",
      "====================================================================================================\n",
      "STARTING with x=[[-0.9999078]]\n",
      "FINAL minimal X value obtained after 500 iterations = [0.999918]\n"
     ]
    },
    {
     "data": {
      "text/plain": [
       "Text(0, 0.5, 'x value')"
      ]
     },
     "execution_count": 27,
     "metadata": {},
     "output_type": "execute_result"
    },
    {
     "data": {
      "image/png": "[encoded data removed]",
      "text/plain": [
       "<Figure size 432x288 with 1 Axes>"
      ]
     },
     "metadata": {
      "needs_background": "light"
     },
     "output_type": "display_data"
    }
   ],
   "source": [
    "print(\"=\"*100+'\\n FINDING OPTIMAL VALUE FOR y=(x-1)^2 \\n'+\"=\"*100  )\n",
    "x = tf.Variable([tf.random.normal([1])])\n",
    "print(\"STARTING with x={}\".format(x.numpy()))\n",
    "learning_rate = 1e-2\n",
    "history = []\n",
    "\n",
    "for i in range(500):\n",
    "  with tf.GradientTape() as tape:\n",
    "    y = (x - 1)**2 # record the forward pass on the tape\n",
    "\n",
    "  grad = tape.gradient(y, x) # compute the gradient of y with respect to x\n",
    "  new_x = x - learning_rate*grad # sgd update\n",
    "  x.assign(new_x) # update the value of x\n",
    "  history.append(x.numpy()[0])\n",
    "\n",
    "print(\"FINAL minimal X value obtained after 500 iterations = {}\".format(x.numpy()[0]))\n",
    "plt.plot(history)\n",
    "plt.plot([0, 500],[1,1])\n",
    "plt.legend(('Predicted', 'True'))\n",
    "plt.xlabel('Iteration')\n",
    "plt.ylabel('x value')"
   ]
  },
  {
   "cell_type": "markdown",
   "metadata": {
    "colab_type": "text",
    "collapsed": true,
    "id": "UxBEH9__YZ3G"
   },
   "source": [
    "## 1.4 Control flow\n",
    "\n",
    "As you've seen, TensorFlow now an imperative programming style, and that's all because of Eager. \n",
    "\n",
    "As another example of the power of Eager, let's take a look at how we can build a dynamic model that uses Python flow control. Here's an example of the [Collatz conjecture](https://en.wikipedia.org/wiki/Collatz_conjecture) using TensorFlow’s arithmetic operations. Such dynamic behavior is not possible in past versions of TensorFlow (up to v1.4)!"
   ]
  },
  {
   "cell_type": "code",
   "execution_count": 35,
   "metadata": {
    "colab": {},
    "colab_type": "code",
    "id": "LCfX4kfRYZ3W"
   },
   "outputs": [
    {
     "name": "stdout",
     "output_type": "stream",
     "text": [
      "a = 6.0\n",
      "a = 3.0\n",
      "a = 10.0\n",
      "a = 5.0\n",
      "a = 16.0\n",
      "a = 8.0\n",
      "a = 4.0\n",
      "a = 2.0\n",
      "a = 1.0\n"
     ]
    }
   ],
   "source": [
    "a = tf.constant(12)\n",
    "counter = 0\n",
    "while not tf.equal(a, 1):\n",
    "  if tf.equal(a % 2, 0):\n",
    "    a = a / 2\n",
    "  else:\n",
    "    a = 3 * a + 1\n",
    "  print('a = {}'.format( a.numpy())  ) "
   ]
  },
  {
   "cell_type": "markdown",
   "metadata": {},
   "source": [
    "### Reference :\n",
    "1. https://github.com/aamini/introtodeeplearning_labs/tree/master/lab1"
   ]
  },
  {
   "cell_type": "code",
   "execution_count": null,
   "metadata": {},
   "outputs": [],
   "source": []
  }
 ],
 "metadata": {
  "colab": {
   "name": "Part1_tensorflow.ipynb",
   "provenance": [],
   "version": "0.3.2"
  },
  "kernelspec": {
   "display_name": "Python 3",
   "language": "python",
   "name": "python3"
  },
  "language_info": {
   "codemirror_mode": {
    "name": "ipython",
    "version": 3
   },
   "file_extension": ".py",
   "mimetype": "text/x-python",
   "name": "python",
   "nbconvert_exporter": "python",
   "pygments_lexer": "ipython3",
   "version": "3.5.3"
  }
 },
 "nbformat": 4,
 "nbformat_minor": 1
}
